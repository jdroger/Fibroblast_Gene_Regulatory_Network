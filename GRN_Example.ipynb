{
 "metadata": {
  "language_info": {
   "codemirror_mode": {
    "name": "ipython",
    "version": 3
   },
   "file_extension": ".py",
   "mimetype": "text/x-python",
   "name": "python",
   "nbconvert_exporter": "python",
   "pygments_lexer": "ipython3",
   "version": "3.8.1-final"
  },
  "orig_nbformat": 2,
  "kernelspec": {
   "name": "python_defaultSpec_1600353064720",
   "display_name": "Python 3.8.1 64-bit ('pyscenic': conda)"
  }
 },
 "nbformat": 4,
 "nbformat_minor": 2,
 "cells": [
  {
   "source": [
    "# Example Notebook: Fibroblast Gene Regulatory Network Inference"
   ],
   "cell_type": "markdown",
   "metadata": {}
  },
  {
   "cell_type": "code",
   "execution_count": 1,
   "metadata": {},
   "outputs": [],
   "source": [
    "from src.GRNinference import inferGRN, crossvalidateGRN"
   ]
  },
  {
   "source": [
    "Specify data and library arguments:\n",
    "- `path_to_data`: address of CSV file containing gene expression data (formatted as genes x samples)\n",
    "- `lib_dir`: address of directory containing sub-directories for all TF-target databases (included in repository as `data`)\n",
    "- `lib_name`: string specifying the desired library to use for inference and refinement\n",
    "  - Here, the [CHEA](https://pubmed.ncbi.nlm.nih.gov/20709693/) database of transcription factor targets is used"
   ],
   "cell_type": "markdown",
   "metadata": {}
  },
  {
   "cell_type": "code",
   "execution_count": 2,
   "metadata": {},
   "outputs": [],
   "source": [
    "path_to_data = \"data\\\\expression\\\\GSE133529_ProcessedDataFile.csv.gz\"\n",
    "lib_dir = \"data\\\\\"\n",
    "lib_name = \"CHEA\""
   ]
  },
  {
   "source": [
    "### Run a single network inference:  \n",
    "Here we'll point the function to the required arguments above and keep all other arguments as defaults. Access to a Dask dashboard will be provided during computation as a link printed to the workspace."
   ],
   "cell_type": "markdown",
   "metadata": {}
  },
  {
   "cell_type": "code",
   "execution_count": 3,
   "metadata": {
    "tags": []
   },
   "outputs": [
    {
     "output_type": "stream",
     "name": "stdout",
     "text": "http://127.0.0.1:8787/status\n(211608, 3)\n(997, 3)\n(75, 4)\n"
    }
   ],
   "source": [
    "grn = inferGRN(path_to_data, lib_dir, lib_name)"
   ]
  },
  {
   "cell_type": "code",
   "execution_count": 4,
   "metadata": {},
   "outputs": [
    {
     "output_type": "execute_result",
     "data": {
      "text/plain": "     index     TF    target  importance\n803    136    AHR  SERPINE1   16.596548\n550     91  TEAD2     CCND1   13.683494\n529    112    SRF      ETV4   13.114272\n260    201  CREB1      BCL6    9.740623\n322      9  SMAD3      ATF3    8.491685",
      "text/html": "<div>\n<style scoped>\n    .dataframe tbody tr th:only-of-type {\n        vertical-align: middle;\n    }\n\n    .dataframe tbody tr th {\n        vertical-align: top;\n    }\n\n    .dataframe thead th {\n        text-align: right;\n    }\n</style>\n<table border=\"1\" class=\"dataframe\">\n  <thead>\n    <tr style=\"text-align: right;\">\n      <th></th>\n      <th>index</th>\n      <th>TF</th>\n      <th>target</th>\n      <th>importance</th>\n    </tr>\n  </thead>\n  <tbody>\n    <tr>\n      <th>803</th>\n      <td>136</td>\n      <td>AHR</td>\n      <td>SERPINE1</td>\n      <td>16.596548</td>\n    </tr>\n    <tr>\n      <th>550</th>\n      <td>91</td>\n      <td>TEAD2</td>\n      <td>CCND1</td>\n      <td>13.683494</td>\n    </tr>\n    <tr>\n      <th>529</th>\n      <td>112</td>\n      <td>SRF</td>\n      <td>ETV4</td>\n      <td>13.114272</td>\n    </tr>\n    <tr>\n      <th>260</th>\n      <td>201</td>\n      <td>CREB1</td>\n      <td>BCL6</td>\n      <td>9.740623</td>\n    </tr>\n    <tr>\n      <th>322</th>\n      <td>9</td>\n      <td>SMAD3</td>\n      <td>ATF3</td>\n      <td>8.491685</td>\n    </tr>\n  </tbody>\n</table>\n</div>"
     },
     "metadata": {},
     "execution_count": 4
    }
   ],
   "source": [
    "grn.head()"
   ]
  },
  {
   "source": [
    "### Run k-fold cross validation for the inference pipeline:\n",
    "Using the `crossvalidateGRN` function, we can specify the number of folds `k` and train multiple networks from training sets. After inference and refinement, each network will be concatenated into a single pandas dataframe with the fold specified as a separate column. We can additionally specify a save directory to output each network as a CSV file, along with the samples used for each training/testing set.  \n",
    "\n",
    "In this case, we have 16 samples of bulk RNA-seq data, and so we'll use 8-fold cross validation."
   ],
   "cell_type": "markdown",
   "metadata": {}
  },
  {
   "cell_type": "code",
   "execution_count": 5,
   "metadata": {
    "tags": []
   },
   "outputs": [
    {
     "output_type": "stream",
     "name": "stdout",
     "text": "http://127.0.0.1:8787/status\n(203732, 3)\n(961, 3)\n(57, 4)\n(205472, 3)\n(1000, 3)\n(80, 4)\n(199778, 3)\n(965, 3)\n(87, 4)\n(199457, 3)\n(936, 3)\n(45, 4)\n(203652, 3)\n(980, 3)\n(91, 4)\n(195636, 3)\n(939, 3)\n(61, 4)\n(198941, 3)\n(891, 3)\n(62, 4)\n(202262, 3)\n(969, 3)\n(76, 4)\ndistributed.nanny - WARNING - Worker process still alive after 4 seconds, killing\ndistributed.nanny - WARNING - Worker process still alive after 4 seconds, killing\ndistributed.nanny - WARNING - Worker process still alive after 4 seconds, killing\ndistributed.nanny - WARNING - Worker process still alive after 4 seconds, killing\n"
    }
   ],
   "source": [
    "k = 8\n",
    "path_to_save = \"data\\\\networks\\\\\"\n",
    "\n",
    "grn_all = crossvalidateGRN(path_to_data, lib_dir, lib_name, k, savedir=path_to_save)"
   ]
  },
  {
   "cell_type": "code",
   "execution_count": 6,
   "metadata": {},
   "outputs": [
    {
     "output_type": "execute_result",
     "data": {
      "text/plain": "     index      TF target  importance\n813    100     JUN  MMP14   29.487101\n493    111     SRF   ETV4   25.413927\n814      8  NFATC1  MMP14   15.443401\n815    126    LEF1  MMP14   13.595153\n516     91   TEAD2   ETV4   11.059693",
      "text/html": "<div>\n<style scoped>\n    .dataframe tbody tr th:only-of-type {\n        vertical-align: middle;\n    }\n\n    .dataframe tbody tr th {\n        vertical-align: top;\n    }\n\n    .dataframe thead th {\n        text-align: right;\n    }\n</style>\n<table border=\"1\" class=\"dataframe\">\n  <thead>\n    <tr style=\"text-align: right;\">\n      <th></th>\n      <th>index</th>\n      <th>TF</th>\n      <th>target</th>\n      <th>importance</th>\n    </tr>\n  </thead>\n  <tbody>\n    <tr>\n      <th>813</th>\n      <td>100</td>\n      <td>JUN</td>\n      <td>MMP14</td>\n      <td>29.487101</td>\n    </tr>\n    <tr>\n      <th>493</th>\n      <td>111</td>\n      <td>SRF</td>\n      <td>ETV4</td>\n      <td>25.413927</td>\n    </tr>\n    <tr>\n      <th>814</th>\n      <td>8</td>\n      <td>NFATC1</td>\n      <td>MMP14</td>\n      <td>15.443401</td>\n    </tr>\n    <tr>\n      <th>815</th>\n      <td>126</td>\n      <td>LEF1</td>\n      <td>MMP14</td>\n      <td>13.595153</td>\n    </tr>\n    <tr>\n      <th>516</th>\n      <td>91</td>\n      <td>TEAD2</td>\n      <td>ETV4</td>\n      <td>11.059693</td>\n    </tr>\n  </tbody>\n</table>\n</div>"
     },
     "metadata": {},
     "execution_count": 6
    }
   ],
   "source": [
    "grn_all.head()"
   ]
  },
  {
   "cell_type": "code",
   "execution_count": null,
   "metadata": {},
   "outputs": [],
   "source": []
  }
 ]
}