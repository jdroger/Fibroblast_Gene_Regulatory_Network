{
 "metadata": {
  "language_info": {
   "codemirror_mode": {
    "name": "ipython",
    "version": 3
   },
   "file_extension": ".py",
   "mimetype": "text/x-python",
   "name": "python",
   "nbconvert_exporter": "python",
   "pygments_lexer": "ipython3",
   "version": "3.8.1-final"
  },
  "orig_nbformat": 2,
  "kernelspec": {
   "name": "python_defaultSpec_1600348501426",
   "display_name": "Python 3.8.1 64-bit ('pyscenic': conda)"
  }
 },
 "nbformat": 4,
 "nbformat_minor": 2,
 "cells": [
  {
   "source": [
    "# Example Notebook: Fibroblast Gene Regulatory Network Inference"
   ],
   "cell_type": "markdown",
   "metadata": {}
  },
  {
   "cell_type": "code",
   "execution_count": null,
   "metadata": {},
   "outputs": [],
   "source": [
    "from src.GRNinference import inferGRN, crossvalidateGRN"
   ]
  },
  {
   "source": [
    "Specify data and library arguments:\n",
    "- `path_to_data`: address of CSV file containing gene expression data (formatted as genes x samples)\n",
    "- `lib_dir`: address of directory containing sub-directories for all TF-target databases (included in repository as `data`)\n",
    "- `lib_name`: string specifying the desired library to use for inference and refinement\n",
    "  - Here, the [CHEA](https://pubmed.ncbi.nlm.nih.gov/20709693/) database of transcription factor targets is used"
   ],
   "cell_type": "markdown",
   "metadata": {}
  },
  {
   "cell_type": "code",
   "execution_count": null,
   "metadata": {},
   "outputs": [],
   "source": [
    "path_to_data = \"data\\\\expression\\\\GSE133529_ProcessedDataFile.csv.gz\"\n",
    "lib_dir = \"data\\\\\"\n",
    "lib_name = \"CHEA\""
   ]
  },
  {
   "source": [
    "### Run a single network inference:  \n",
    "Here we'll point the function to the required arguments above and keep all other arguments as defaults. Access to a Dask dashboard will be provided during computation as a link printed to the workspace."
   ],
   "cell_type": "markdown",
   "metadata": {}
  },
  {
   "cell_type": "code",
   "execution_count": null,
   "metadata": {
    "tags": []
   },
   "outputs": [],
   "source": [
    "grn = inferGRN(path_to_data, lib_dir, lib_name)\n",
    "grn"
   ]
  },
  {
   "source": [
    "### Run k-fold cross validation for the inference pipeline:\n",
    "Using the `crossvalidateGRN` function, we can specify the number of folds `k` and train multiple networks from training sets. After inference and refinement, each network will be concatenated into a single pandas dataframe with the fold specified as a separate column. We can additionally specify a save directory to output each network as a CSV file, along with the samples used for each training/testing set.  \n",
    "\n",
    "In this case, we have 16 samples of bulk RNA-seq data, and so we'll use 8-fold cross validation."
   ],
   "cell_type": "markdown",
   "metadata": {}
  },
  {
   "cell_type": "code",
   "execution_count": null,
   "metadata": {},
   "outputs": [],
   "source": [
    "k = 8\n",
    "path_to_save = \"data\\\\networks\\\\\"\n",
    "\n",
    "grn_all = crossvalidateGRN(path_to_data, lib_dir, lib_name, k, savedir=path_to_save)\n",
    "grn_all"
   ]
  },
  {
   "cell_type": "code",
   "execution_count": null,
   "metadata": {},
   "outputs": [],
   "source": []
  }
 ]
}