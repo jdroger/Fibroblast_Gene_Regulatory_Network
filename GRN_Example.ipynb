{
 "metadata": {
  "language_info": {
   "codemirror_mode": {
    "name": "ipython",
    "version": 3
   },
   "file_extension": ".py",
   "mimetype": "text/x-python",
   "name": "python",
   "nbconvert_exporter": "python",
   "pygments_lexer": "ipython3",
   "version": "3.8.1-final"
  },
  "orig_nbformat": 2,
  "kernelspec": {
   "name": "python_defaultSpec_1600348501426",
   "display_name": "Python 3.8.1 64-bit ('pyscenic': conda)"
  }
 },
 "nbformat": 4,
 "nbformat_minor": 2,
 "cells": [
  {
   "source": [
    "# Example Notebook: Fibroblast Gene Regulatory Network Inference"
   ],
   "cell_type": "markdown",
   "metadata": {}
  },
  {
   "cell_type": "code",
   "execution_count": 1,
   "metadata": {},
   "outputs": [],
   "source": [
    "from src.GRNinference import inferGRN, crossvalidateGRN"
   ]
  },
  {
   "source": [
    "Specify data and library arguments:\n",
    "- `path_to_data`: address of CSV file containing gene expression data (formatted as genes x samples)\n",
    "- `lib_dir`: address of directory containing sub-directories for all TF-target databases\n",
    "- `lib_name`: string specifying the desired library to use for inference and refinement\n",
    "  - Here, the [CHEA](https://pubmed.ncbi.nlm.nih.gov/20709693/) database of transcription factor targets is used"
   ],
   "cell_type": "markdown",
   "metadata": {}
  },
  {
   "source": [
    "Specify data and library arguments for inference:\n",
    "- `path_to_data`: address of file containing gene expression data\n",
    "- `lib_dir`: directory containing sub-folders with TF-target databases (included in repository as `data`)\n",
    "- `lib_name`: string pointing function to the sub-folder containing database files\n",
    "  - In this case, we'll use the [CHEA](https://pubmed.ncbi.nlm.nih.gov/20709693/) database of "
   ],
   "cell_type": "markdown",
   "metadata": {}
  },
  {
   "source": [
    "### Run a single network inference:  \n",
    "Here we'll point the function to the required arguments above and keep all other arguments as defaults. Access to a Dask dashboard will be provided during computation as a link printed to the workspace."
   ],
   "cell_type": "markdown",
   "metadata": {}
  },
  {
   "cell_type": "code",
   "execution_count": 6,
   "metadata": {},
   "outputs": [],
   "source": [
    "path_to_data = \"data\\\\expression\\\\GSE133529_ProcessedDataFile.csv.gz\"\n",
    "lib_dir = \"data\\\\\"\n",
    "lib_name = \"CHEA\""
   ]
  },
  {
   "cell_type": "code",
   "execution_count": 10,
   "metadata": {},
   "outputs": [
    {
     "output_type": "execute_result",
     "data": {
      "text/plain": "     index      TF    target  importance\n893     10   HIF1A      MMP1   53.416939\n845    113   RUNX2  SERPINE1   26.032237\n525    112     SRF      ETV4   21.864790\n801    192    GLI2     ACTA2   21.501221\n846    136     AHR  SERPINE1   20.987329\n..     ...     ...       ...         ...\n630     75   TEAD4     HMGA1    0.469218\n496      8  NFATC1      ETS1    0.465846\n516     87  NFATC3     RUNX2    0.443590\n147    118     FOS     RUNX1    0.365915\n836    133    ETS1     TIMP2    0.276568\n\n[98 rows x 4 columns]",
      "text/html": "<div>\n<style scoped>\n    .dataframe tbody tr th:only-of-type {\n        vertical-align: middle;\n    }\n\n    .dataframe tbody tr th {\n        vertical-align: top;\n    }\n\n    .dataframe thead th {\n        text-align: right;\n    }\n</style>\n<table border=\"1\" class=\"dataframe\">\n  <thead>\n    <tr style=\"text-align: right;\">\n      <th></th>\n      <th>index</th>\n      <th>TF</th>\n      <th>target</th>\n      <th>importance</th>\n    </tr>\n  </thead>\n  <tbody>\n    <tr>\n      <th>893</th>\n      <td>10</td>\n      <td>HIF1A</td>\n      <td>MMP1</td>\n      <td>53.416939</td>\n    </tr>\n    <tr>\n      <th>845</th>\n      <td>113</td>\n      <td>RUNX2</td>\n      <td>SERPINE1</td>\n      <td>26.032237</td>\n    </tr>\n    <tr>\n      <th>525</th>\n      <td>112</td>\n      <td>SRF</td>\n      <td>ETV4</td>\n      <td>21.864790</td>\n    </tr>\n    <tr>\n      <th>801</th>\n      <td>192</td>\n      <td>GLI2</td>\n      <td>ACTA2</td>\n      <td>21.501221</td>\n    </tr>\n    <tr>\n      <th>846</th>\n      <td>136</td>\n      <td>AHR</td>\n      <td>SERPINE1</td>\n      <td>20.987329</td>\n    </tr>\n    <tr>\n      <th>...</th>\n      <td>...</td>\n      <td>...</td>\n      <td>...</td>\n      <td>...</td>\n    </tr>\n    <tr>\n      <th>630</th>\n      <td>75</td>\n      <td>TEAD4</td>\n      <td>HMGA1</td>\n      <td>0.469218</td>\n    </tr>\n    <tr>\n      <th>496</th>\n      <td>8</td>\n      <td>NFATC1</td>\n      <td>ETS1</td>\n      <td>0.465846</td>\n    </tr>\n    <tr>\n      <th>516</th>\n      <td>87</td>\n      <td>NFATC3</td>\n      <td>RUNX2</td>\n      <td>0.443590</td>\n    </tr>\n    <tr>\n      <th>147</th>\n      <td>118</td>\n      <td>FOS</td>\n      <td>RUNX1</td>\n      <td>0.365915</td>\n    </tr>\n    <tr>\n      <th>836</th>\n      <td>133</td>\n      <td>ETS1</td>\n      <td>TIMP2</td>\n      <td>0.276568</td>\n    </tr>\n  </tbody>\n</table>\n<p>98 rows × 4 columns</p>\n</div>"
     },
     "metadata": {},
     "execution_count": 10
    }
   ],
   "source": [
    "# inspect the final network\n",
    "grn"
   ]
  },
  {
   "source": [
    "### Run k-fold cross validation for the inference pipeline:\n",
    "Using the `crossvalidateGRN` function, we can specify the number of folds `k` and train multiple networks from training sets. After inference and refinement, each network will be concatenated into a single pandas dataframe with the fold specified as a separate column. We can additionally specify a save directory to output each network as a CSV file, along with the samples used for each training/testing set.  \n",
    "\n",
    "In this case, we have 16 samples of bulk RNA-seq data, and so we'll use 8-fold cross validation."
   ],
   "cell_type": "markdown",
   "metadata": {}
  },
  {
   "cell_type": "code",
   "execution_count": null,
   "metadata": {},
   "outputs": [],
   "source": [
    "k = 8\n",
    "path_to_save = \"data\\\\networks\\\\\"\n",
    "\n",
    "grn_all = crossvalidateGRN(path_to_data, lib_dir, lib_name, k, savedir=path_to_save)"
   ]
  },
  {
   "cell_type": "code",
   "execution_count": 7,
   "metadata": {
    "tags": []
   },
   "outputs": [
    {
     "output_type": "stream",
     "name": "stdout",
     "text": "http://127.0.0.1:8787/status\n(211801, 3)\n(1028, 3)\n(98, 4)\n"
    }
   ],
   "source": [
    "grn = inferGRN(path_to_data, lib_dir, lib_name)"
   ]
  },
  {
   "cell_type": "code",
   "execution_count": 8,
   "metadata": {},
   "outputs": [
    {
     "output_type": "execute_result",
     "data": {
      "text/plain": "     index      TF    target  importance\n893     10   HIF1A      MMP1   53.416939\n845    113   RUNX2  SERPINE1   26.032237\n525    112     SRF      ETV4   21.864790\n801    192    GLI2     ACTA2   21.501221\n846    136     AHR  SERPINE1   20.987329\n..     ...     ...       ...         ...\n630     75   TEAD4     HMGA1    0.469218\n496      8  NFATC1      ETS1    0.465846\n516     87  NFATC3     RUNX2    0.443590\n147    118     FOS     RUNX1    0.365915\n836    133    ETS1     TIMP2    0.276568\n\n[98 rows x 4 columns]",
      "text/html": "<div>\n<style scoped>\n    .dataframe tbody tr th:only-of-type {\n        vertical-align: middle;\n    }\n\n    .dataframe tbody tr th {\n        vertical-align: top;\n    }\n\n    .dataframe thead th {\n        text-align: right;\n    }\n</style>\n<table border=\"1\" class=\"dataframe\">\n  <thead>\n    <tr style=\"text-align: right;\">\n      <th></th>\n      <th>index</th>\n      <th>TF</th>\n      <th>target</th>\n      <th>importance</th>\n    </tr>\n  </thead>\n  <tbody>\n    <tr>\n      <th>893</th>\n      <td>10</td>\n      <td>HIF1A</td>\n      <td>MMP1</td>\n      <td>53.416939</td>\n    </tr>\n    <tr>\n      <th>845</th>\n      <td>113</td>\n      <td>RUNX2</td>\n      <td>SERPINE1</td>\n      <td>26.032237</td>\n    </tr>\n    <tr>\n      <th>525</th>\n      <td>112</td>\n      <td>SRF</td>\n      <td>ETV4</td>\n      <td>21.864790</td>\n    </tr>\n    <tr>\n      <th>801</th>\n      <td>192</td>\n      <td>GLI2</td>\n      <td>ACTA2</td>\n      <td>21.501221</td>\n    </tr>\n    <tr>\n      <th>846</th>\n      <td>136</td>\n      <td>AHR</td>\n      <td>SERPINE1</td>\n      <td>20.987329</td>\n    </tr>\n    <tr>\n      <th>...</th>\n      <td>...</td>\n      <td>...</td>\n      <td>...</td>\n      <td>...</td>\n    </tr>\n    <tr>\n      <th>630</th>\n      <td>75</td>\n      <td>TEAD4</td>\n      <td>HMGA1</td>\n      <td>0.469218</td>\n    </tr>\n    <tr>\n      <th>496</th>\n      <td>8</td>\n      <td>NFATC1</td>\n      <td>ETS1</td>\n      <td>0.465846</td>\n    </tr>\n    <tr>\n      <th>516</th>\n      <td>87</td>\n      <td>NFATC3</td>\n      <td>RUNX2</td>\n      <td>0.443590</td>\n    </tr>\n    <tr>\n      <th>147</th>\n      <td>118</td>\n      <td>FOS</td>\n      <td>RUNX1</td>\n      <td>0.365915</td>\n    </tr>\n    <tr>\n      <th>836</th>\n      <td>133</td>\n      <td>ETS1</td>\n      <td>TIMP2</td>\n      <td>0.276568</td>\n    </tr>\n  </tbody>\n</table>\n<p>98 rows × 4 columns</p>\n</div>"
     },
     "metadata": {},
     "execution_count": 8
    }
   ],
   "source": [
    "grn"
   ]
  },
  {
   "cell_type": "code",
   "execution_count": null,
   "metadata": {},
   "outputs": [],
   "source": []
  }
 ]
}